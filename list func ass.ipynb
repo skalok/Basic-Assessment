{
 "cells": [
  {
   "cell_type": "markdown",
   "id": "fa70c73e-ad80-4d89-b79d-6cd199d49a80",
   "metadata": {},
   "source": [
    "Q1.\n",
    "\n",
    "list.append('item')\n",
    "\n",
    "Q2.\n",
    "\n",
    "pop remove the last data in the list without any argument\n",
    "\n",
    "remove need to define the argument what you want to remove.\n",
    "\n",
    "\n",
    "Q3.\n",
    "\n",
    "list.sort(reverse=True)\n",
    "\n",
    "Q4.\n",
    "\n",
    "list.count(value)\n",
    "\n",
    "Q5.\n",
    "\n",
    "ist.reverse()\n",
    "\n",
    "\n",
    "\n",
    "\n",
    "\n"
   ]
  },
  {
   "cell_type": "code",
   "execution_count": 10,
   "id": "c913ba7c-09e3-497e-9575-8a5f43413aff",
   "metadata": {},
   "outputs": [],
   "source": [
    "list =[1,2,3,4]"
   ]
  },
  {
   "cell_type": "code",
   "execution_count": 3,
   "id": "29e6e7e1-a11a-4fcd-be85-815e65a15973",
   "metadata": {},
   "outputs": [
    {
     "data": {
      "text/plain": [
       "[1, 2, 3, 4]"
      ]
     },
     "execution_count": 3,
     "metadata": {},
     "output_type": "execute_result"
    }
   ],
   "source": [
    "list"
   ]
  },
  {
   "cell_type": "code",
   "execution_count": 12,
   "id": "923a95b9-dc76-4658-905c-d75390d80385",
   "metadata": {},
   "outputs": [],
   "source": [
    "list.append(\"test\")"
   ]
  },
  {
   "cell_type": "code",
   "execution_count": 5,
   "id": "27cc12ca-9a54-410f-84a4-1508fd77d99a",
   "metadata": {},
   "outputs": [
    {
     "data": {
      "text/plain": [
       "[1, 2, 3, 4, 'test']"
      ]
     },
     "execution_count": 5,
     "metadata": {},
     "output_type": "execute_result"
    }
   ],
   "source": [
    "list"
   ]
  },
  {
   "cell_type": "code",
   "execution_count": 6,
   "id": "98021e9d-1dcf-4bee-b275-badc9b082f2a",
   "metadata": {},
   "outputs": [
    {
     "data": {
      "text/plain": [
       "'test'"
      ]
     },
     "execution_count": 6,
     "metadata": {},
     "output_type": "execute_result"
    }
   ],
   "source": [
    "list.pop()"
   ]
  },
  {
   "cell_type": "code",
   "execution_count": 8,
   "id": "257e0978-5f7f-4501-a023-e4a043879f93",
   "metadata": {},
   "outputs": [],
   "source": [
    "list.remove(2)"
   ]
  },
  {
   "cell_type": "code",
   "execution_count": 24,
   "id": "5cd2135b-39af-4175-a3c2-668c840b3e6b",
   "metadata": {},
   "outputs": [
    {
     "data": {
      "text/plain": [
       "[1, 2, 3, 4]"
      ]
     },
     "execution_count": 24,
     "metadata": {},
     "output_type": "execute_result"
    }
   ],
   "source": [
    "list"
   ]
  },
  {
   "cell_type": "code",
   "execution_count": 25,
   "id": "c690b711-3795-4279-b413-a135bf4ec6e2",
   "metadata": {},
   "outputs": [],
   "source": [
    "list.sort(reverse=True)"
   ]
  },
  {
   "cell_type": "code",
   "execution_count": 26,
   "id": "ea66a9e9-8343-4f73-9034-a348b8cccd15",
   "metadata": {},
   "outputs": [
    {
     "data": {
      "text/plain": [
       "[4, 3, 2, 1]"
      ]
     },
     "execution_count": 26,
     "metadata": {},
     "output_type": "execute_result"
    }
   ],
   "source": [
    "list"
   ]
  },
  {
   "cell_type": "code",
   "execution_count": 27,
   "id": "12a43e3f-7ff5-4736-b3e9-b58d5b5f5157",
   "metadata": {},
   "outputs": [
    {
     "data": {
      "text/plain": [
       "1"
      ]
     },
     "execution_count": 27,
     "metadata": {},
     "output_type": "execute_result"
    }
   ],
   "source": [
    "list.count(4)"
   ]
  },
  {
   "cell_type": "code",
   "execution_count": 28,
   "id": "50ee7ca2-2c2d-486b-93a6-8a2c91b9e199",
   "metadata": {},
   "outputs": [],
   "source": [
    "list.reverse()"
   ]
  },
  {
   "cell_type": "code",
   "execution_count": 29,
   "id": "538c8446-117e-4922-bfd8-e1d0d4d6de01",
   "metadata": {},
   "outputs": [
    {
     "data": {
      "text/plain": [
       "[1, 2, 3, 4]"
      ]
     },
     "execution_count": 29,
     "metadata": {},
     "output_type": "execute_result"
    }
   ],
   "source": [
    "list"
   ]
  },
  {
   "cell_type": "code",
   "execution_count": null,
   "id": "1eba0583-721b-4318-a8a8-a43c56fd8986",
   "metadata": {},
   "outputs": [],
   "source": []
  }
 ],
 "metadata": {
  "kernelspec": {
   "display_name": "Python 3 (ipykernel)",
   "language": "python",
   "name": "python3"
  },
  "language_info": {
   "codemirror_mode": {
    "name": "ipython",
    "version": 3
   },
   "file_extension": ".py",
   "mimetype": "text/x-python",
   "name": "python",
   "nbconvert_exporter": "python",
   "pygments_lexer": "ipython3",
   "version": "3.10.8"
  }
 },
 "nbformat": 4,
 "nbformat_minor": 5
}
