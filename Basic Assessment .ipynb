{
 "cells": [
  {
   "cell_type": "markdown",
   "id": "8e9906a8-705a-40b1-aea4-cba898be2bac",
   "metadata": {},
   "source": [
    "Q 1\n",
    "\n",
    "A variable name must start with a letter or an underscore character (_) A variable name cannot start with a digit. A variable name can only contain alpha-numeric characters and underscores ( a-z, A-Z , 0-9 , and _ ) Variable names are case-sensitive (age, Age and AGE are three different variables)."
   ]
  },
  {
   "cell_type": "markdown",
   "id": "012c2f1e-405b-4b46-9ccf-ae678b1f5708",
   "metadata": {},
   "source": [
    "Q2\n",
    "They're going to produce a SyntaxError\n"
   ]
  },
  {
   "cell_type": "markdown",
   "id": "a92ce81f-2833-43bd-8729-b0592451a7dc",
   "metadata": {},
   "source": [
    "Q3.\n",
    "variable names in Python can be any length and can consist of uppercase and lowercase letters ( A-Z , a-z ), digits ( 0-9 ), and the underscore character ( _ ).\n",
    "eg    _name "
   ]
  },
  {
   "cell_type": "markdown",
   "id": "cd4c74f5-94a2-4376-bbc1-3e0a4e5ab61a",
   "metadata": {},
   "source": [
    "Q4\n",
    "since python execute codes line by line so if we put variable as following\n",
    "\n",
    "a=20\n",
    "a=90\n",
    "\n",
    "the dynamic nature of python will de-link the first value ie 20 and link the value 90 with identifier a. at the same time python ensure with "
   ]
  }
 ],
 "metadata": {
  "kernelspec": {
   "display_name": "Python 3 (ipykernel)",
   "language": "python",
   "name": "python3"
  },
  "language_info": {
   "codemirror_mode": {
    "name": "ipython",
    "version": 3
   },
   "file_extension": ".py",
   "mimetype": "text/x-python",
   "name": "python",
   "nbconvert_exporter": "python",
   "pygments_lexer": "ipython3",
   "version": "3.10.8"
  }
 },
 "nbformat": 4,
 "nbformat_minor": 5
}
