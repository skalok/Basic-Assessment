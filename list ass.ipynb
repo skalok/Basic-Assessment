{
 "cells": [
  {
   "cell_type": "markdown",
   "id": "dad360e5-195f-4189-9937-f5e3b3ce09c6",
   "metadata": {},
   "source": [
    "Q1.\n",
    "\n",
    "make empty list\n",
    "\n",
    "list = []\n",
    "\n",
    "Q2.\n",
    "\n",
    "lsit = [1, 2, 3, 'test']\n",
    "\n",
    "list.append(test2)\n",
    "\n",
    "Q3.\n",
    "\n",
    "print(list[3])\n",
    "\n",
    "Q4.\n",
    "\n",
    "list.reverse()\n",
    "\n",
    "Q5.\n",
    "\n",
    "list.sort()\n",
    "\n",
    "Q6.\n",
    "\n",
    "movie =[ 'hind','sind','bind']\n",
    "print(movie[1])\n",
    "\n",
    "Q7.\n",
    "\n",
    "animal = ['cat','rat','frog']\n",
    "a1 =['ant','fly']\n",
    "animal.extend(a1)\n",
    "print(animal)\n",
    "\n",
    "Q8.\n",
    "\n",
    "city =['gkp', 'lko','mzp','pnq']\n",
    "city.index('mzp')\n",
    "print(city[2])\n",
    "\n",
    "\n",
    "\n",
    "\n"
   ]
  }
 ],
 "metadata": {
  "kernelspec": {
   "display_name": "Python 3 (ipykernel)",
   "language": "python",
   "name": "python3"
  },
  "language_info": {
   "codemirror_mode": {
    "name": "ipython",
    "version": 3
   },
   "file_extension": ".py",
   "mimetype": "text/x-python",
   "name": "python",
   "nbconvert_exporter": "python",
   "pygments_lexer": "ipython3",
   "version": "3.10.8"
  }
 },
 "nbformat": 4,
 "nbformat_minor": 5
}
