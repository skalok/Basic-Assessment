{
 "cells": [
  {
   "cell_type": "markdown",
   "id": "d6f6ff4e-d957-426a-8283-927923f71ac0",
   "metadata": {},
   "source": [
    "Q1,\n",
    "\n",
    "' string can be strored under \"\" like \" ' \""
   ]
  },
  {
   "cell_type": "markdown",
   "id": "0a7205c8-62b9-42fc-bca4-6fac3a66943f",
   "metadata": {},
   "source": [
    "Q2\n",
    "\n",
    "x is a character type string  can be check with inbuilt type(x)."
   ]
  },
  {
   "cell_type": "markdown",
   "id": "8cea56b3-8753-4cbc-975f-7b207a4c53fd",
   "metadata": {},
   "source": [
    "Q4\n",
    "\n",
    "Str= \"PanaJi@12256\"\n",
    "lower=0\n",
    "upper=0\n",
    "for i in Str:\n",
    "      if(i.islower()):\n",
    "            lower+=1\n",
    "      else:\n",
    "            upper+=1\n",
    "print(\"The number of lowercase characters is:\",lower)\n",
    "print(\"The number of uppercase characters is:\",upper)\n",
    "print( lower + upper)\n"
   ]
  },
  {
   "cell_type": "markdown",
   "id": "550fda46-5308-4e54-8080-c083fc496eab",
   "metadata": {},
   "source": [
    "Q3\n",
    "\n",
    "s = \"Welcome to Python founat1on course\""
   ]
  },
  {
   "cell_type": "markdown",
   "id": "31d02005-d988-4e94-9c2f-bf16f5a586f2",
   "metadata": {},
   "source": [
    "s.find('l')"
   ]
  },
  {
   "cell_type": "markdown",
   "id": "c5fb5b08-ff18-415e-a667-e4eafd2a3d54",
   "metadata": {},
   "source": [
    "s.count('e')"
   ]
  },
  {
   "cell_type": "markdown",
   "id": "0f587b11-f5ba-4193-8f4a-e2fcb49d46e9",
   "metadata": {},
   "source": [
    "len(s)"
   ]
  },
  {
   "cell_type": "markdown",
   "id": "5a684163-1043-4058-9ab1-09f63670d748",
   "metadata": {},
   "source": []
  }
 ],
 "metadata": {
  "kernelspec": {
   "display_name": "Python 3 (ipykernel)",
   "language": "python",
   "name": "python3"
  },
  "language_info": {
   "codemirror_mode": {
    "name": "ipython",
    "version": 3
   },
   "file_extension": ".py",
   "mimetype": "text/x-python",
   "name": "python",
   "nbconvert_exporter": "python",
   "pygments_lexer": "ipython3",
   "version": "3.10.8"
  }
 },
 "nbformat": 4,
 "nbformat_minor": 5
}
