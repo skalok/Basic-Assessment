{
 "cells": [
  {
   "cell_type": "markdown",
   "id": "78901fd2-b9c1-4974-8d71-963c522a5090",
   "metadata": {},
   "source": [
    "Q1.\n",
    "\n",
    "Set is collection of unique data and created by using {}.\n",
    "\n",
    "A set is a collection which is unordered, unchangeable*, and unindexed.\n",
    "\n",
    "\n",
    "Q2.\n",
    "\n",
    "to create a set in pythong we use {}\n",
    "\n",
    "s= {'test',1,2,3,4,}\n",
    "\n",
    "\n",
    "Q4.\n",
    "\n",
    "to remvoe the element from the set\n",
    "\n",
    "s ={1,2,3,'test'}\n",
    "\n",
    "s.remove(2)\n",
    "\n",
    "this will remove 2 from the set.\n",
    "\n",
    "s= {1, 3, 'test'}\n",
    "\n",
    "\n",
    "Q4.\n",
    "\n",
    "len(s)\n",
    "\n",
    "\n"
   ]
  },
  {
   "cell_type": "code",
   "execution_count": 2,
   "id": "d8cdb7bb-7eb6-4ff7-9353-83f237241491",
   "metadata": {},
   "outputs": [],
   "source": [
    "s ={1,2,3,'test'}"
   ]
  },
  {
   "cell_type": "code",
   "execution_count": 3,
   "id": "248308d5-f5e4-466f-b0ad-c238aa360ee2",
   "metadata": {},
   "outputs": [
    {
     "data": {
      "text/plain": [
       "{1, 2, 3, 'test'}"
      ]
     },
     "execution_count": 3,
     "metadata": {},
     "output_type": "execute_result"
    }
   ],
   "source": [
    "s"
   ]
  },
  {
   "cell_type": "code",
   "execution_count": 4,
   "id": "c6194183-f9fb-4d9d-8cc9-b61f4498b0ee",
   "metadata": {},
   "outputs": [],
   "source": [
    "s.remove(2)"
   ]
  },
  {
   "cell_type": "code",
   "execution_count": 5,
   "id": "addf3e1c-3e86-4b80-85ad-dae38809ad3b",
   "metadata": {},
   "outputs": [
    {
     "data": {
      "text/plain": [
       "{1, 3, 'test'}"
      ]
     },
     "execution_count": 5,
     "metadata": {},
     "output_type": "execute_result"
    }
   ],
   "source": [
    "s"
   ]
  },
  {
   "cell_type": "code",
   "execution_count": 6,
   "id": "c5d7f05d-6afd-4569-89e2-36d098058ef6",
   "metadata": {},
   "outputs": [
    {
     "data": {
      "text/plain": [
       "3"
      ]
     },
     "execution_count": 6,
     "metadata": {},
     "output_type": "execute_result"
    }
   ],
   "source": [
    "len(s)"
   ]
  },
  {
   "cell_type": "code",
   "execution_count": null,
   "id": "861ec791-2a5c-4fd8-a793-5e9119bbd2fe",
   "metadata": {},
   "outputs": [],
   "source": []
  }
 ],
 "metadata": {
  "kernelspec": {
   "display_name": "Python 3 (ipykernel)",
   "language": "python",
   "name": "python3"
  },
  "language_info": {
   "codemirror_mode": {
    "name": "ipython",
    "version": 3
   },
   "file_extension": ".py",
   "mimetype": "text/x-python",
   "name": "python",
   "nbconvert_exporter": "python",
   "pygments_lexer": "ipython3",
   "version": "3.10.8"
  }
 },
 "nbformat": 4,
 "nbformat_minor": 5
}
